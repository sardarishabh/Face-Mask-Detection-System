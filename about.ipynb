{
 "cells": [
  {
   "cell_type": "code",
   "execution_count": 1,
   "id": "55e5891f",
   "metadata": {},
   "outputs": [
    {
     "data": {
      "text/html": [
       "<head><meta name=\"viewpoint\" content=\"width=device-width, initial-scale=1.0\" /></head>"
      ],
      "text/plain": [
       "<IPython.core.display.HTML object>"
      ]
     },
     "metadata": {},
     "output_type": "display_data"
    },
    {
     "data": {
      "text/html": [
       "<h1><center>Face Mask Recognition System</center></h1>"
      ],
      "text/plain": [
       "<IPython.core.display.HTML object>"
      ]
     },
     "metadata": {},
     "output_type": "display_data"
    },
    {
     "data": {
      "text/html": [
       "<ul style=\"overflow:hidden; list-style-type: none; background-color:#36454F; color:white;\"><li style=\" float:left; padding: 16px;\"><a href=\"Face_mask2.ipynb\"> Home</a></li><li style= \"float:left; padding: 16px;\"><a href=\"About2.ipynb\">About Us</a></li></ul>"
      ],
      "text/plain": [
       "<IPython.core.display.HTML object>"
      ]
     },
     "metadata": {},
     "output_type": "display_data"
    },
    {
     "data": {
      "text/html": [
       "<p><center>In the face of the COVID-19 pandemic, the World Health Organization (WHO) declared the use of a face mask as a mandatory<br> biosafety measure. Wearing a mask is among the non-pharmaceutical measures that can be used to cut the primary source of COVID<br> droplets expelled by an infected individual. To contribute towards communal health, this project aims to devise a highly <br>accurate and real-time technique that can efficiently detect non-mask faces in public and thus, enforce them to wear masks. </center></p>"
      ],
      "text/plain": [
       "<IPython.core.display.HTML object>"
      ]
     },
     "metadata": {},
     "output_type": "display_data"
    },
    {
     "data": {
      "text/html": [
       "<p><center>The implementation is done in Python, and the python script implementation will train our face mask detector on our <br>selected dataset using TensorFlow and Keras. We have added more robust features and trained our model on various variations, we made<br> sure to have large varied and augmented dataset so that the model is able to clearly identify and detection the face masks in<br> real time videos.</center> </p>"
      ],
      "text/plain": [
       "<IPython.core.display.HTML object>"
      ]
     },
     "metadata": {},
     "output_type": "display_data"
    },
    {
     "data": {
      "text/html": [
       "<p></p>"
      ],
      "text/plain": [
       "<IPython.core.display.HTML object>"
      ]
     },
     "metadata": {},
     "output_type": "display_data"
    },
    {
     "data": {
      "text/html": [
       "<center><h2>Graphical of Training Loss and Accuracy</h2></center>"
      ],
      "text/plain": [
       "<IPython.core.display.HTML object>"
      ]
     },
     "metadata": {},
     "output_type": "display_data"
    },
    {
     "data": {
      "text/html": [
       "<center><img src=\"plot-MSI.png\"></center>"
      ],
      "text/plain": [
       "<IPython.core.display.HTML object>"
      ]
     },
     "metadata": {},
     "output_type": "display_data"
    }
   ],
   "source": [
    "from IPython.core.display import display, HTML\n",
    "display(HTML('<head><meta name=\"viewpoint\" content=\"width=device-width, initial-scale=1.0\" /></head>'))\n",
    "display(HTML('<h1><center>Face Mask Recognition System</center></h1>'))\n",
    "display(HTML('<ul style=\"overflow:hidden; list-style-type: none; background-color:#36454F; color:white;\"><li style=\" float:left; padding: 16px;\"><a href=\"face_mask.ipynb\"> Home</a></li><li style= \"float:left; padding: 16px;\"><a href=\"About2.ipynb\">About Us</a></li></ul>'))\n",
    "display(HTML('<p><center>In the face of the COVID-19 pandemic, the World Health Organization (WHO) declared the use of a face mask as a mandatory<br> biosafety measure. Wearing a mask is among the non-pharmaceutical measures that can be used to cut the primary source of COVID<br> droplets expelled by an infected individual. To contribute towards communal health, this project aims to devise a highly <br>accurate and real-time technique that can efficiently detect non-mask faces in public and thus, enforce them to wear masks. </center></p>'))\n",
    "display(HTML('<p><center>The implementation is done in Python, and the python script implementation will train our face mask detector on our <br>selected dataset using TensorFlow and Keras. We have added more robust features and trained our model on various variations, we made<br> sure to have large varied and augmented dataset so that the model is able to clearly identify and detection the face masks in<br> real time videos.</center> </p>'))\n",
    "display(HTML('<p></p>'))\n",
    "display(HTML('<center><h2>Graphical of Training Loss and Accuracy</h2></center>'))\n",
    "display(HTML('<center><img src=\"train3Plot.png\"></center>'))"
   ]
  },
  {
   "cell_type": "code",
   "execution_count": null,
   "id": "8dbd36e2",
   "metadata": {},
   "outputs": [],
   "source": []
  }
 ],
 "metadata": {
  "kernelspec": {
   "display_name": "Python 3 (ipykernel)",
   "language": "python",
   "name": "python3"
  },
  "language_info": {
   "codemirror_mode": {
    "name": "ipython",
    "version": 3
   },
   "file_extension": ".py",
   "mimetype": "text/x-python",
   "name": "python",
   "nbconvert_exporter": "python",
   "pygments_lexer": "ipython3",
   "version": "3.9.7"
  }
 },
 "nbformat": 4,
 "nbformat_minor": 5
}
